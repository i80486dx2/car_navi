{
 "cells": [
  {
   "cell_type": "code",
   "execution_count": 11,
   "metadata": {},
   "outputs": [
    {
     "name": "stdout",
     "output_type": "stream",
     "text": "folium version is 0.10.1\n"
    }
   ],
   "source": [
    "import numpy as np\n",
    "import pandas as pd\n",
    "\n",
    "import folium\n",
    "from folium import plugins\n",
    "print( \"folium version is {}\".format(folium.__version__) )"
   ]
  },
  {
   "cell_type": "code",
   "execution_count": 12,
   "metadata": {},
   "outputs": [
    {
     "data": {
      "text/html": "<div style=\"width:100%;\"><div style=\"position:relative;width:100%;height:0;padding-bottom:60%;\"><iframe src=\"data:text/html;charset=utf-8;base64,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\" style=\"position:absolute;width:100%;height:100%;left:0;top:0;border:none !important;\" allowfullscreen webkitallowfullscreen mozallowfullscreen></iframe></div></div>",
      "text/plain": "<folium.folium.Map at 0x10a997bb0>"
     },
     "execution_count": 12,
     "metadata": {},
     "output_type": "execute_result"
    }
   ],
   "source": [
    "LAT = \"37.5242475\"\n",
    "LNG = \"139.9404067\"\n",
    "LAT2 = \"37.398018\"\n",
    "LNG2 = \"140.3879142\"\n",
    "m = folium.Map(location = [LAT,  LNG])\n",
    "folium.Marker(location = [LAT,  LNG]).add_to(m)\n",
    "folium.Marker(location = [LAT2,  LNG2]).add_to(m)\n",
    "m"
   ]
  },
  {
   "cell_type": "code",
   "execution_count": 13,
   "metadata": {},
   "outputs": [
    {
     "name": "stdout",
     "output_type": "stream",
     "text": "0.9023205097776668\n"
    }
   ],
   "source": [
    "import math \n",
    "\n",
    "LAT = 37.5242475\n",
    "LNG = 139.9404067\n",
    "LAT2 = 37.398018\n",
    "LNG2 = 140.3879142\n",
    "\n",
    "distance_km = 6371 * math.acos(\n",
    "  math.cos(math.radians(LAT/180*math.pi)) * math.cos(math.radians((LNG2 - LNG)/180*math.pi)) * math.cos(math.radians(LAT2/180*math.pi)) +\n",
    "  math.sin(math.radians(LAT/180*math.pi)) * math.sin(math.radians(LAT2/180*math.pi))\n",
    ")\n",
    "\n",
    "print(distance_km)"
   ]
  },
  {
   "cell_type": "code",
   "execution_count": 14,
   "metadata": {},
   "outputs": [],
   "source": [
    "filename = 'map.html'\n",
    "m.save(filename)"
   ]
  },
  {
   "cell_type": "code",
   "execution_count": null,
   "metadata": {},
   "outputs": [],
   "source": []
  },
  {
   "cell_type": "code",
   "execution_count": 15,
   "metadata": {},
   "outputs": [
    {
     "name": "stdout",
     "output_type": "stream",
     "text": "Collecting rep\n  Using cached https://files.pythonhosted.org/packages/b2/04/27a1ee90ed1506a72671726e255c4567af571968d668d20aa3b91e472574/rep-0.6.6.tar.gz\nRequirement already satisfied: numpy>=1.10.0 in /Library/Frameworks/Python.framework/Versions/3.8/lib/python3.8/site-packages (from rep) (1.18.1)\nCollecting scipy>=0.16.0 (from rep)\n  Using cached https://files.pythonhosted.org/packages/90/d2/44b70a930ad28da8f65d8c294ac88b20f561e5d650b85efea80381566db1/scipy-1.4.1-cp38-cp38-macosx_10_9_x86_64.whl\nCollecting matplotlib==1.5.1 (from rep)\n  Using cached https://files.pythonhosted.org/packages/8f/f4/c0c7e81f64d5f4d36e52e393af687f28882c53dcd924419d684dc9859f40/matplotlib-1.5.1.tar.gz\n\u001b[31m    ERROR: Command errored out with exit status 1:\n     command: /Library/Frameworks/Python.framework/Versions/3.8/bin/python3.8 -c 'import sys, setuptools, tokenize; sys.argv[0] = '\"'\"'/private/var/folders/rk/jxbxfhv52rs9ql9lw48fb1ym0000gn/T/pip-install-ig48ce7l/matplotlib/setup.py'\"'\"'; __file__='\"'\"'/private/var/folders/rk/jxbxfhv52rs9ql9lw48fb1ym0000gn/T/pip-install-ig48ce7l/matplotlib/setup.py'\"'\"';f=getattr(tokenize, '\"'\"'open'\"'\"', open)(__file__);code=f.read().replace('\"'\"'\\r\\n'\"'\"', '\"'\"'\\n'\"'\"');f.close();exec(compile(code, __file__, '\"'\"'exec'\"'\"'))' egg_info --egg-base pip-egg-info\n         cwd: /private/var/folders/rk/jxbxfhv52rs9ql9lw48fb1ym0000gn/T/pip-install-ig48ce7l/matplotlib/\n    Complete output (36 lines):\n    IMPORTANT WARNING:\n        pkg-config is not installed.\n        matplotlib may not be able to find some of its dependencies\n    ============================================================================\n    Edit setup.cfg to change the build options\n    \n    BUILDING MATPLOTLIB\n                matplotlib: yes [1.5.1]\n                    python: yes [3.8.0 (v3.8.0:fa919fdf25, Oct 14 2019,\n                            10:23:27)  [Clang 6.0 (clang-600.0.57)]]\n                  platform: yes [darwin]\n    \n    REQUIRED DEPENDENCIES AND EXTENSIONS\n    Traceback (most recent call last):\n      File \"<string>\", line 1, in <module>\n      File \"/private/var/folders/rk/jxbxfhv52rs9ql9lw48fb1ym0000gn/T/pip-install-ig48ce7l/matplotlib/setup.py\", line 167, in <module>\n        result = package.check()\n      File \"/private/var/folders/rk/jxbxfhv52rs9ql9lw48fb1ym0000gn/T/pip-install-ig48ce7l/matplotlib/setupext.py\", line 827, in check\n        import numpy\n      File \"/Library/Frameworks/Python.framework/Versions/3.8/lib/python3.8/site-packages/numpy/__init__.py\", line 142, in <module>\n        from . import core\n      File \"/Library/Frameworks/Python.framework/Versions/3.8/lib/python3.8/site-packages/numpy/core/__init__.py\", line 24, in <module>\n        from . import multiarray\n      File \"/Library/Frameworks/Python.framework/Versions/3.8/lib/python3.8/site-packages/numpy/core/multiarray.py\", line 14, in <module>\n        from . import overrides\n      File \"/Library/Frameworks/Python.framework/Versions/3.8/lib/python3.8/site-packages/numpy/core/overrides.py\", line 9, in <module>\n        from numpy.compat._inspect import getargspec\n      File \"/Library/Frameworks/Python.framework/Versions/3.8/lib/python3.8/site-packages/numpy/compat/__init__.py\", line 14, in <module>\n        from . import py3k\n      File \"/Library/Frameworks/Python.framework/Versions/3.8/lib/python3.8/site-packages/numpy/compat/py3k.py\", line 22, in <module>\n        from pathlib import Path, PurePath\n      File \"/Library/Frameworks/Python.framework/Versions/3.8/lib/python3.8/pathlib.py\", line 391, in <module>\n        class _NormalAccessor(_Accessor):\n      File \"/Library/Frameworks/Python.framework/Versions/3.8/lib/python3.8/pathlib.py\", line 415, in _NormalAccessor\n        link_to = os.link\n    AttributeError: module 'os' has no attribute 'link'\n    ----------------------------------------\u001b[0m\n\u001b[31mERROR: Command errored out with exit status 1: python setup.py egg_info Check the logs for full command output.\u001b[0m\n\u001b[33mWARNING: You are using pip version 19.2.3, however version 20.0.2 is available.\nYou should consider upgrading via the 'pip install --upgrade pip' command.\u001b[0m\n"
    }
   ],
   "source": [
    "!pip3 install rep"
   ]
  },
  {
   "cell_type": "code",
   "execution_count": 16,
   "metadata": {},
   "outputs": [
    {
     "name": "stdout",
     "output_type": "stream",
     "text": "松窪入口（交差点） を直進する (会津大学 の表示)\nTrue\n松窪入口（交差点） を直進する (会津大学 の表示)\n"
    }
   ],
   "source": [
    "text = \"\\u003cb\\u003e松窪入口（交差点）\\u003c/b\\u003e を直進する (\\u003cb\\u003e会津大学\\u003c/b\\u003e の表示)\"\n",
    "text = text.replace(\"\\u003c/b\\u003e\",\"\").replace(\"\\u003cwbr/\\u003e\",\"\").replace(\"\\u003cb\\u003e\",\"\")\n",
    "print(text)\n",
    "if len(text) > 15:\n",
    "    print(\"True\")\n",
    "    text.replace(text[15:],\"...\")\n",
    "    print(text)"
   ]
  },
  {
   "cell_type": "code",
   "execution_count": 20,
   "metadata": {},
   "outputs": [
    {
     "name": "stdout",
     "output_type": "stream",
     "text": "距離：192.339(m)\n"
    }
   ],
   "source": [
    "# -*- coding: utf-8 -*-\n",
    "from math import *\n",
    "\n",
    "# 楕円体\n",
    "ELLIPSOID_GRS80 = 1 # GRS80\n",
    "ELLIPSOID_WGS84 = 2 # WGS84\n",
    "\n",
    "# 楕円体ごとの長軸半径と扁平率\n",
    "GEODETIC_DATUM = {\n",
    "    ELLIPSOID_GRS80: [\n",
    "        6378137.0,         # [GRS80]長軸半径\n",
    "        1 / 298.257222101, # [GRS80]扁平率\n",
    "    ],\n",
    "    ELLIPSOID_WGS84: [\n",
    "        6378137.0,         # [WGS84]長軸半径\n",
    "        1 / 298.257223563, # [WGS84]扁平率\n",
    "    ],\n",
    "}\n",
    "\n",
    "# 反復計算の上限回数\n",
    "ITERATION_LIMIT = 1000\n",
    "\n",
    "'''\n",
    "Vincenty法(逆解法)\n",
    "2地点の座標(緯度経度)から、距離と方位角を計算する\n",
    ":param lat1: 始点の緯度\n",
    ":param lon1: 始点の経度\n",
    ":param lat2: 終点の緯度\n",
    ":param lon2: 終点の経度\n",
    ":param ellipsoid: 楕円体\n",
    ":return: 距離と方位角\n",
    "'''\n",
    "def vincenty_inverse(lat1, lon1, lat2, lon2, ellipsoid=None):\n",
    "\n",
    "    # 差異が無ければ0.0を返す\n",
    "    if isclose(lat1, lat2) and isclose(lon1, lon2):\n",
    "        return {\n",
    "            'distance': 0.0,\n",
    "            'azimuth1': 0.0,\n",
    "            'azimuth2': 0.0,\n",
    "        }\n",
    "\n",
    "    # 計算時に必要な長軸半径(a)と扁平率(ƒ)を定数から取得し、短軸半径(b)を算出する\n",
    "    # 楕円体が未指定の場合はGRS80の値を用いる\n",
    "    a, ƒ = GEODETIC_DATUM.get(ellipsoid, GEODETIC_DATUM.get(ELLIPSOID_GRS80))\n",
    "    b = (1 - ƒ) * a\n",
    "\n",
    "    φ1 = radians(lat1)\n",
    "    φ2 = radians(lat2)\n",
    "    λ1 = radians(lon1)\n",
    "    λ2 = radians(lon2)\n",
    "\n",
    "    # 更成緯度(補助球上の緯度)\n",
    "    U1 = atan((1 - ƒ) * tan(φ1))\n",
    "    U2 = atan((1 - ƒ) * tan(φ2))\n",
    "\n",
    "    sinU1 = sin(U1)\n",
    "    sinU2 = sin(U2)\n",
    "    cosU1 = cos(U1)\n",
    "    cosU2 = cos(U2)\n",
    "\n",
    "    # 2点間の経度差\n",
    "    L = λ2 - λ1\n",
    "\n",
    "    # λをLで初期化\n",
    "    λ = L\n",
    "\n",
    "    # 以下の計算をλが収束するまで反復する\n",
    "    # 地点によっては収束しないことがあり得るため、反復回数に上限を設ける\n",
    "    for i in range(ITERATION_LIMIT):\n",
    "        sinλ = sin(λ)\n",
    "        cosλ = cos(λ)\n",
    "        sinσ = sqrt((cosU2 * sinλ) ** 2 + (cosU1 * sinU2 - sinU1 * cosU2 * cosλ) ** 2)\n",
    "        cosσ = sinU1 * sinU2 + cosU1 * cosU2 * cosλ\n",
    "        σ = atan2(sinσ, cosσ)\n",
    "        sinα = cosU1 * cosU2 * sinλ / sinσ\n",
    "        cos2α = 1 - sinα ** 2\n",
    "        cos2σm = cosσ - 2 * sinU1 * sinU2 / cos2α\n",
    "        C = ƒ / 16 * cos2α * (4 + ƒ * (4 - 3 * cos2α))\n",
    "        λʹ = λ\n",
    "        λ = L + (1 - C) * ƒ * sinα * (σ + C * sinσ * (cos2σm + C * cosσ * (-1 + 2 * cos2σm ** 2)))\n",
    "\n",
    "        # 偏差が.000000000001以下ならbreak\n",
    "        if abs(λ - λʹ) <= 1e-12:\n",
    "            break\n",
    "    else:\n",
    "        # 計算が収束しなかった場合はNoneを返す\n",
    "        return None\n",
    "\n",
    "    # λが所望の精度まで収束したら以下の計算を行う\n",
    "    u2 = cos2α * (a ** 2 - b ** 2) / (b ** 2)\n",
    "    A = 1 + u2 / 16384 * (4096 + u2 * (-768 + u2 * (320 - 175 * u2)))\n",
    "    B = u2 / 1024 * (256 + u2 * (-128 + u2 * (74 - 47 * u2)))\n",
    "    Δσ = B * sinσ * (cos2σm + B / 4 * (cosσ * (-1 + 2 * cos2σm ** 2) - B / 6 * cos2σm * (-3 + 4 * sinσ ** 2) * (-3 + 4 * cos2σm ** 2)))\n",
    "\n",
    "    # 2点間の楕円体上の距離\n",
    "    s = b * A * (σ - Δσ)\n",
    "\n",
    "    # 各点における方位角\n",
    "    #α1 = atan2(cosU2 * sinλ, cosU1 * sinU2 - sinU1 * cosU2 * cosλ)\n",
    "    #α2 = atan2(cosU1 * sinλ, -sinU1 * cosU2 + cosU1 * sinU2 * cosλ) + pi\n",
    "\n",
    "    #if α1 < 0:\n",
    "     #   α1 = α1 + pi * 2\n",
    "\n",
    "    return {\n",
    "        'distance': s,           # 距離\n",
    "        #'azimuth1': degrees(α1), # 方位角(始点→終点)\n",
    "        #'azimuth2': degrees(α2), # 方位角(終点→始点)\n",
    "    }\n",
    "\n",
    "lat1 = 37.397863\n",
    "lon1 = 140.387126\n",
    "lat2 = 37.398121\n",
    "lon2 = 140.384978\n",
    "\n",
    "result = vincenty_inverse(lat1, lon1, lat2, lon2, 1)\n",
    "\n",
    "print('距離：%s(m)' % round(result['distance'], 3))\n",
    "#print('方位角(始点→終点)：%s' % result['azimuth1'])\n",
    "#print('方位角(終点→始点)：%s' % result['azimuth2'])"
   ]
  },
  {
   "cell_type": "code",
   "execution_count": null,
   "metadata": {},
   "outputs": [],
   "source": []
  }
 ],
 "metadata": {
  "kernelspec": {
   "display_name": "Python 3",
   "language": "python",
   "name": "python3"
  },
  "language_info": {
   "codemirror_mode": {
    "name": "ipython",
    "version": 3
   },
   "file_extension": ".py",
   "mimetype": "text/x-python",
   "name": "python",
   "nbconvert_exporter": "python",
   "pygments_lexer": "ipython3",
   "version": "3.8.0-final"
  }
 },
 "nbformat": 4,
 "nbformat_minor": 4
}